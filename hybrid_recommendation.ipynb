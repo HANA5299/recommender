{
 "cells": [
  {
   "cell_type": "code",
   "execution_count": 1,
   "id": "e75122e5-0656-427b-9305-bf2a7b90d8c4",
   "metadata": {},
   "outputs": [
    {
     "name": "stdout",
     "output_type": "stream",
     "text": [
      "Movies:\n",
      "    movieId                               title  \\\n",
      "0        1                    Toy Story (1995)   \n",
      "1        2                      Jumanji (1995)   \n",
      "2        3             Grumpier Old Men (1995)   \n",
      "3        4            Waiting to Exhale (1995)   \n",
      "4        5  Father of the Bride Part II (1995)   \n",
      "\n",
      "                                        genres  \n",
      "0  Adventure|Animation|Children|Comedy|Fantasy  \n",
      "1                   Adventure|Children|Fantasy  \n",
      "2                               Comedy|Romance  \n",
      "3                         Comedy|Drama|Romance  \n",
      "4                                       Comedy  \n",
      "\n",
      "Ratings:\n",
      "    userId  movieId  rating  timestamp\n",
      "0       1        1     4.0  964982703\n",
      "1       1        3     4.0  964981247\n",
      "2       1        6     4.0  964982224\n",
      "3       1       47     5.0  964983815\n",
      "4       1       50     5.0  964982931\n",
      "\n",
      "Tags:\n",
      "    userId  movieId              tag   timestamp\n",
      "0       2    60756            funny  1445714994\n",
      "1       2    60756  Highly quotable  1445714996\n",
      "2       2    60756     will ferrell  1445714992\n",
      "3       2    89774     Boxing story  1445715207\n",
      "4       2    89774              MMA  1445715200\n",
      "\n",
      "Links:\n",
      "    movieId  imdbId   tmdbId\n",
      "0        1  114709    862.0\n",
      "1        2  113497   8844.0\n",
      "2        3  113228  15602.0\n",
      "3        4  114885  31357.0\n",
      "4        5  113041  11862.0\n",
      "\n",
      "Data types:\n",
      "movieId     int64\n",
      "title      object\n",
      "genres     object\n",
      "dtype: object\n",
      "userId         int64\n",
      "movieId        int64\n",
      "rating       float64\n",
      "timestamp      int64\n",
      "dtype: object\n",
      "userId        int64\n",
      "movieId       int64\n",
      "tag          object\n",
      "timestamp     int64\n",
      "dtype: object\n",
      "movieId      int64\n",
      "imdbId       int64\n",
      "tmdbId     float64\n",
      "dtype: object\n"
     ]
    }
   ],
   "source": [
    "\n",
    "import pandas as pd\n",
    "from sklearn.feature_extraction.text import TfidfVectorizer\n",
    "from sklearn.metrics.pairwise import linear_kernel\n",
    "from surprise import Dataset, Reader, SVD\n",
    "from surprise.model_selection import train_test_split\n",
    "from surprise import accuracy\n",
    "from sklearn.preprocessing import MinMaxScaler\n",
    "import numpy as np\n",
    "# Load datasets\n",
    "movies = pd.read_csv('movies.csv')\n",
    "ratings = pd.read_csv('ratings.csv')\n",
    "tags = pd.read_csv('tags.csv')\n",
    "links = pd.read_csv('links.csv')\n",
    "\n",
    "# Display the first few rows\n",
    "print(\"Movies:\\n\", movies.head())\n",
    "print(\"\\nRatings:\\n\", ratings.head())\n",
    "print(\"\\nTags:\\n\", tags.head())\n",
    "print(\"\\nLinks:\\n\", links.head())\n",
    "\n",
    "print(\"\\nData types:\")\n",
    "print(movies.dtypes)\n",
    "print(ratings.dtypes)\n",
    "print(tags.dtypes)\n",
    "print(links.dtypes)"
   ]
  },
  {
   "cell_type": "code",
   "execution_count": 2,
   "id": "8c9a8e81-b83f-4977-9dbd-bf952b7d6faf",
   "metadata": {},
   "outputs": [
    {
     "name": "stdout",
     "output_type": "stream",
     "text": [
      "Missing values in each dataset:\n",
      "Movies:\n",
      " movieId    0\n",
      "title      0\n",
      "genres     0\n",
      "dtype: int64\n",
      "Ratings:\n",
      " userId       0\n",
      "movieId      0\n",
      "rating       0\n",
      "timestamp    0\n",
      "dtype: int64\n",
      "Tags:\n",
      " userId       0\n",
      "movieId      0\n",
      "tag          0\n",
      "timestamp    0\n",
      "dtype: int64\n",
      "Links:\n",
      " movieId    0\n",
      "imdbId     0\n",
      "tmdbId     8\n",
      "dtype: int64\n"
     ]
    }
   ],
   "source": [
    "# Check for missing values\n",
    "print(\"Missing values in each dataset:\")\n",
    "print(\"Movies:\\n\", movies.isnull().sum())\n",
    "print(\"Ratings:\\n\", ratings.isnull().sum())\n",
    "print(\"Tags:\\n\", tags.isnull().sum())\n",
    "print(\"Links:\\n\", links.isnull().sum())\n"
   ]
  },
  {
   "cell_type": "code",
   "execution_count": 3,
   "id": "1b05901d-e2a7-44e3-8017-d862ece2a7f3",
   "metadata": {},
   "outputs": [],
   "source": [
    "# Drop rows with missing tmdbId\n",
    "links.dropna(subset=['tmdbId'], inplace=True)\n",
    "links['tmdbId'] = links['tmdbId'].astype(int)"
   ]
  },
  {
   "cell_type": "code",
   "execution_count": 4,
   "id": "729d7b97-6a52-4487-ac60-e20b471b7dc4",
   "metadata": {},
   "outputs": [
    {
     "name": "stdout",
     "output_type": "stream",
     "text": [
      "Duplicates before dropping:\n",
      "Movies: 0\n",
      "Ratings: 0\n",
      "Tags: 0\n",
      "Links: 0\n"
     ]
    }
   ],
   "source": [
    "# Check and drop duplicates\n",
    "print(\"Duplicates before dropping:\")\n",
    "print(\"Movies:\", movies.duplicated().sum())\n",
    "print(\"Ratings:\", ratings.duplicated().sum())\n",
    "print(\"Tags:\", tags.duplicated().sum())\n",
    "print(\"Links:\", links.duplicated().sum())"
   ]
  },
  {
   "cell_type": "code",
   "execution_count": 5,
   "id": "80b09e29-ac26-493c-a4bc-5fa911be9afd",
   "metadata": {},
   "outputs": [
    {
     "name": "stdout",
     "output_type": "stream",
     "text": [
      "\n",
      "Ratings stats:\n",
      "count    100836.000000\n",
      "mean          3.501557\n",
      "std           1.042529\n",
      "min           0.500000\n",
      "25%           3.000000\n",
      "50%           3.500000\n",
      "75%           4.000000\n",
      "max           5.000000\n",
      "Name: rating, dtype: float64\n",
      "\n",
      "Unique users: 610\n",
      "Unique movies: 9724\n",
      "Ratings per user statistics:\n",
      "count     610.000000\n",
      "mean      165.304918\n",
      "std       269.480584\n",
      "min        20.000000\n",
      "25%        35.000000\n",
      "50%        70.500000\n",
      "75%       168.000000\n",
      "max      2698.000000\n",
      "dtype: float64\n"
     ]
    }
   ],
   "source": [
    "# 5. Basic stats on ratings\n",
    "print(\"\\nRatings stats:\")\n",
    "print(ratings['rating'].describe())\n",
    "\n",
    "# 6. Number of unique users and movies\n",
    "print(\"\\nUnique users:\", ratings['userId'].nunique())\n",
    "print(\"Unique movies:\", ratings['movieId'].nunique())\n",
    "\n",
    "# Display distribution of number of ratings per user (optional exploration)\n",
    "ratings_per_user = ratings.groupby('userId').size()\n",
    "print(\"Ratings per user statistics:\")\n",
    "print(ratings_per_user.describe())"
   ]
  },
  {
   "cell_type": "code",
   "execution_count": 6,
   "id": "b8dd7323-e848-48c7-a9f7-a6d6e1b62e28",
   "metadata": {},
   "outputs": [
    {
     "name": "stdout",
     "output_type": "stream",
     "text": [
      "   userId  movieId  rating  timestamp                        title  \\\n",
      "0       1        1     4.0  964982703             Toy Story (1995)   \n",
      "1       1        3     4.0  964981247      Grumpier Old Men (1995)   \n",
      "2       1        6     4.0  964982224                  Heat (1995)   \n",
      "3       1       47     5.0  964983815  Seven (a.k.a. Se7en) (1995)   \n",
      "4       1       50     5.0  964982931   Usual Suspects, The (1995)   \n",
      "\n",
      "                                        genres  \n",
      "0  Adventure|Animation|Children|Comedy|Fantasy  \n",
      "1                               Comedy|Romance  \n",
      "2                        Action|Crime|Thriller  \n",
      "3                             Mystery|Thriller  \n",
      "4                       Crime|Mystery|Thriller  \n"
     ]
    }
   ],
   "source": [
    "# Merge movies with ratings for later use\n",
    "movie_ratings = pd.merge(ratings, movies, on='movieId')\n",
    "print(movie_ratings.head())\n"
   ]
  },
  {
   "cell_type": "code",
   "execution_count": 7,
   "id": "7f646017-f1a7-4516-a882-2f8fc5eb52ef",
   "metadata": {},
   "outputs": [],
   "source": [
    "# Replace '|' with space so TF-IDF can treat each genre as a separate word\n",
    "movies['genres_clean'] = movies['genres'].str.replace('|', ' ', regex=False)\n"
   ]
  },
  {
   "cell_type": "code",
   "execution_count": 8,
   "id": "a9e3a8db-da0a-40d0-8b61-e573604a1bc9",
   "metadata": {},
   "outputs": [
    {
     "name": "stdout",
     "output_type": "stream",
     "text": [
      "TF-IDF matrix shape: (9742, 24)\n"
     ]
    }
   ],
   "source": [
    "# Create TF-IDF matrix for genres\n",
    "tfidf = TfidfVectorizer()\n",
    "tfidf_matrix = tfidf.fit_transform(movies['genres_clean'])\n",
    "\n",
    "print(\"TF-IDF matrix shape:\", tfidf_matrix.shape)\n"
   ]
  },
  {
   "cell_type": "code",
   "execution_count": 9,
   "id": "1ce140de-9a26-48ff-b39b-ec93c886a6b2",
   "metadata": {},
   "outputs": [
    {
     "name": "stdout",
     "output_type": "stream",
     "text": [
      "Cosine similarity matrix shape: (9742, 9742)\n"
     ]
    }
   ],
   "source": [
    "\n",
    "\n",
    "# Compute cosine similarity matrix\n",
    "cosine_sim = linear_kernel(tfidf_matrix, tfidf_matrix)\n",
    "\n",
    "# Display shape (should be 9742 x 9742)\n",
    "print(\"Cosine similarity matrix shape:\", cosine_sim.shape)\n"
   ]
  },
  {
   "cell_type": "code",
   "execution_count": 10,
   "id": "6f6a3569-87e3-4eb6-8050-708fa702c175",
   "metadata": {},
   "outputs": [],
   "source": [
    "# Create a reverse mapping: movie title → index\n",
    "indices = pd.Series(movies.index, index=movies['title']).drop_duplicates()\n",
    "\n",
    "def recommend_movies(title, cosine_sim=cosine_sim, n=10):\n",
    "    # Get index of the movie\n",
    "    idx = indices.get(title)\n",
    "    if idx is None:\n",
    "        return f\" Movie '{title}' not found in the dataset.\"\n",
    "\n",
    "    # Get similarity scores\n",
    "    sim_scores = list(enumerate(cosine_sim[idx]))\n",
    "    \n",
    "    # Sort movies by similarity score (excluding itself)\n",
    "    sim_scores = sorted(sim_scores, key=lambda x: x[1], reverse=True)[1:n+1]\n",
    "    \n",
    "    # Get the movie indices\n",
    "    movie_indices = [i[0] for i in sim_scores]\n",
    "    \n",
    "    # Return top N similar movie titles\n",
    "    return movies['title'].iloc[movie_indices].tolist()\n"
   ]
  },
  {
   "cell_type": "code",
   "execution_count": 11,
   "id": "44617047-284b-4150-ba37-2c61de47b994",
   "metadata": {},
   "outputs": [
    {
     "name": "stdout",
     "output_type": "stream",
     "text": [
      "['Antz (1998)', 'Toy Story 2 (1999)', 'Adventures of Rocky and Bullwinkle, The (2000)', \"Emperor's New Groove, The (2000)\", 'Monsters, Inc. (2001)']\n"
     ]
    }
   ],
   "source": [
    "print(recommend_movies(\"Toy Story (1995)\", n=5))\n"
   ]
  },
  {
   "cell_type": "code",
   "execution_count": 12,
   "id": "bd470deb-3a96-4887-b941-96369393c6bb",
   "metadata": {},
   "outputs": [
    {
     "name": "stdout",
     "output_type": "stream",
     "text": [
      "Channels:\n",
      " - conda-forge\n",
      " - defaults\n",
      "Platform: win-64\n",
      "Collecting package metadata (repodata.json): ...working... done\n",
      "Solving environment: ...working... done\n",
      "\n",
      "# All requested packages already installed.\n",
      "\n"
     ]
    }
   ],
   "source": [
    "!conda install -c conda-forge scikit-surprise -y\n"
   ]
  },
  {
   "cell_type": "code",
   "execution_count": 13,
   "id": "31f5f973-eccb-454e-b5a3-f629555b826a",
   "metadata": {},
   "outputs": [],
   "source": [
    "# Define rating scale and load data from your DataFrame\n",
    "reader = Reader(rating_scale=(0.5, 5.0))\n",
    "data = Dataset.load_from_df(ratings[['userId', 'movieId', 'rating']], reader)\n",
    "\n",
    "# Split data into training and test sets\n",
    "trainset, testset = train_test_split(data, test_size=0.2, random_state=42)\n"
   ]
  },
  {
   "cell_type": "code",
   "execution_count": 14,
   "id": "20ac17b1-4192-48e9-b8a2-1fdcffe4d3e0",
   "metadata": {},
   "outputs": [
    {
     "name": "stdout",
     "output_type": "stream",
     "text": [
      "RMSE: 0.8819\n",
      "RMSE: 0.8818923424849298\n",
      "MAE:  0.6778\n",
      "MAE: 0.6777633597960264\n"
     ]
    }
   ],
   "source": [
    "# Initialize and train the model\n",
    "model = SVD()\n",
    "model.fit(trainset)\n",
    "\n",
    "# Predict on the test set\n",
    "predictions = model.test(testset)\n",
    "\n",
    "# Evaluate accuracy\n",
    "print(\"RMSE:\", accuracy.rmse(predictions))\n",
    "print(\"MAE:\", accuracy.mae(predictions))\n"
   ]
  },
  {
   "cell_type": "code",
   "execution_count": 15,
   "id": "9230fd5b-f97e-4eaa-8b44-e29f6a352883",
   "metadata": {},
   "outputs": [],
   "source": [
    "def get_top_n_recommendations(user_id, model, ratings_df, movies_df, n=10):\n",
    "    # Get list of all movie IDs\n",
    "    all_movie_ids = movies_df['movieId'].unique()\n",
    "    \n",
    "    # Get movies the user has already rated\n",
    "    rated_movie_ids = ratings_df[ratings_df['userId'] == user_id]['movieId'].values\n",
    "    \n",
    "    # Filter out rated movies\n",
    "    unseen_movies = [mid for mid in all_movie_ids if mid not in rated_movie_ids]\n",
    "    \n",
    "    # Predict ratings for all unseen movies\n",
    "    predictions = [model.predict(user_id, movie_id) for movie_id in unseen_movies]\n",
    "    \n",
    "    # Sort predictions by estimated rating\n",
    "    predictions.sort(key=lambda x: x.est, reverse=True)\n",
    "    \n",
    "    # Get top n movie IDs\n",
    "    top_n_movie_ids = [int(pred.iid) for pred in predictions[:n]]\n",
    "    \n",
    "    # Get movie titles\n",
    "    top_n_movies = movies_df[movies_df['movieId'].isin(top_n_movie_ids)]['title'].values\n",
    "    \n",
    "    return top_n_movies\n"
   ]
  },
  {
   "cell_type": "code",
   "execution_count": 16,
   "id": "c4102406-dea5-40b0-bd9c-f1b6b56f67c2",
   "metadata": {},
   "outputs": [
    {
     "name": "stdout",
     "output_type": "stream",
     "text": [
      "Recommended movies for User 1: ['Shawshank Redemption, The (1994)' 'Blade Runner (1982)'\n",
      " 'Wallace & Gromit: The Best of Aardman Animation (1996)'\n",
      " 'Dr. Strangelove or: How I Learned to Stop Worrying and Love the Bomb (1964)'\n",
      " 'Philadelphia Story, The (1940)']\n"
     ]
    }
   ],
   "source": [
    "# Recommend movies for user ID 1\n",
    "recommendations = get_top_n_recommendations(1, model, ratings, movies, n=5)\n",
    "print(\"Recommended movies for User 1:\", recommendations)\n"
   ]
  },
  {
   "cell_type": "code",
   "execution_count": 22,
   "id": "e2a1ed41-dc04-4fc6-8b6e-08304883750b",
   "metadata": {},
   "outputs": [],
   "source": [
    "def get_collab_scores(user_id, model, movies_df, ratings_df):\n",
    "    all_movie_ids = movies_df['movieId'].unique()\n",
    "    rated_ids = ratings_df[ratings_df['userId'] == user_id]['movieId'].values\n",
    "    unseen_ids = [mid for mid in all_movie_ids if mid not in rated_ids]\n",
    "\n",
    "    predictions = [model.predict(user_id, mid) for mid in unseen_ids]\n",
    "    movie_ids = [int(p.iid) for p in predictions]\n",
    "    scores = [p.est for p in predictions]\n",
    "\n",
    "    # Normalize scores\n",
    "    scaler = MinMaxScaler()\n",
    "    norm_scores = scaler.fit_transform(np.array(scores).reshape(-1, 1)).flatten()\n",
    "\n",
    "    return dict(zip(movie_ids, norm_scores))\n"
   ]
  },
  {
   "cell_type": "code",
   "execution_count": 23,
   "id": "dc137aba-a513-4312-9988-67694a02ad21",
   "metadata": {},
   "outputs": [],
   "source": [
    "def get_content_scores(movie_id, cosine_sim, movies_df):\n",
    "    idx = movies_df[movies_df['movieId'] == movie_id].index[0]\n",
    "    sim_scores = list(enumerate(cosine_sim[idx]))\n",
    "    \n",
    "    # Remove itself\n",
    "    sim_scores = sorted(sim_scores, key=lambda x: x[1], reverse=True)[1:]\n",
    "    \n",
    "    # Normalize\n",
    "    movie_ids = [movies_df.iloc[i[0]]['movieId'] for i in sim_scores]\n",
    "    scores = [i[1] for i in sim_scores]\n",
    "\n",
    "    scaler = MinMaxScaler()\n",
    "    norm_scores = scaler.fit_transform(np.array(scores).reshape(-1, 1)).flatten()\n",
    "\n",
    "    return dict(zip(movie_ids, norm_scores))\n"
   ]
  },
  {
   "cell_type": "code",
   "execution_count": 24,
   "id": "de5c19f4-42c7-4a49-a0df-602d28ded209",
   "metadata": {},
   "outputs": [],
   "source": [
    "def hybrid_recommend(user_id, liked_movie_id, model, ratings_df, movies_df, cosine_sim, alpha=0.5, top_n=10):\n",
    "    collab = get_collab_scores(user_id, model, movies_df, ratings_df)\n",
    "    content = get_content_scores(liked_movie_id, cosine_sim, movies_df)\n",
    "\n",
    "    # Combine scores\n",
    "    combined_scores = {}\n",
    "    for mid in collab:\n",
    "        c_score = content.get(mid, 0)\n",
    "        hybrid_score = alpha * collab[mid] + (1 - alpha) * c_score\n",
    "        combined_scores[mid] = hybrid_score\n",
    "\n",
    "    # Sort and get top N\n",
    "    top_movies = sorted(combined_scores.items(), key=lambda x: x[1], reverse=True)[:top_n]\n",
    "    top_movie_ids = [mid for mid, score in top_movies]\n",
    "    return movies_df[movies_df['movieId'].isin(top_movie_ids)]['title'].tolist()\n"
   ]
  },
  {
   "cell_type": "code",
   "execution_count": 25,
   "id": "d166fcce-f197-436d-958f-ba772ed3ddf7",
   "metadata": {},
   "outputs": [],
   "source": [
    "def precision_recall_at_k(recommended, relevant, k=10):\n",
    "    recommended = recommended[:k]\n",
    "    hits = len(set(recommended) & set(relevant))\n",
    "    precision = hits / k\n",
    "    recall = hits / len(relevant) if relevant else 0\n",
    "    return precision, recall\n",
    "\n",
    "def evaluate_hybrid(user_id, liked_movie_id, model, ratings_df, movies_df, cosine_sim, alpha_values):\n",
    "    results = []\n",
    "    for alpha in alpha_values:\n",
    "        recommended_titles = hybrid_recommend(\n",
    "            user_id=user_id,\n",
    "            liked_movie_id=liked_movie_id,\n",
    "            model=model,\n",
    "            ratings_df=ratings_df,\n",
    "            movies_df=movies_df,\n",
    "            cosine_sim=cosine_sim,\n",
    "            alpha=alpha,\n",
    "            top_n=10\n",
    "        )\n",
    "\n",
    "        recommended_ids = movies_df[movies_df['title'].isin(recommended_titles)]['movieId'].tolist()\n",
    "        relevant_ids = ratings_df[(ratings_df['userId'] == user_id) & (ratings_df['rating'] >= 4.0)]['movieId'].tolist()\n",
    "\n",
    "        precision, recall = precision_recall_at_k(recommended_ids, relevant_ids, k=10)\n",
    "        results.append((alpha, precision, recall))\n",
    "\n",
    "    return results"
   ]
  },
  {
   "cell_type": "code",
   "execution_count": 26,
   "id": "bd6b123e-713c-4c62-9276-641555b1dfba",
   "metadata": {},
   "outputs": [
    {
     "name": "stdout",
     "output_type": "stream",
     "text": [
      "Alpha: 0.0 | Precision@10: 0.00 | Recall@10: 0.00\n",
      "Alpha: 0.2 | Precision@10: 0.00 | Recall@10: 0.00\n",
      "Alpha: 0.4 | Precision@10: 0.00 | Recall@10: 0.00\n",
      "Alpha: 0.6 | Precision@10: 0.00 | Recall@10: 0.00\n",
      "Alpha: 0.8 | Precision@10: 0.00 | Recall@10: 0.00\n",
      "Alpha: 1.0 | Precision@10: 0.00 | Recall@10: 0.00\n"
     ]
    }
   ],
   "source": [
    "alpha_values = [0.0, 0.2, 0.4, 0.6, 0.8, 1.0]\n",
    "results = evaluate_hybrid(\n",
    "    user_id=1,\n",
    "    liked_movie_id=1,\n",
    "    model=model,\n",
    "    ratings_df=ratings,\n",
    "    movies_df=movies,\n",
    "    cosine_sim=cosine_sim,\n",
    "    alpha_values=alpha_values\n",
    ")\n",
    "\n",
    "for alpha, precision, recall in results:\n",
    "    print(f\"Alpha: {alpha:.1f} | Precision@10: {precision:.2f} | Recall@10: {recall:.2f}\")\n"
   ]
  },
  {
   "cell_type": "code",
   "execution_count": 28,
   "id": "d2124da3-a43b-43e1-950b-98a98f28e0c8",
   "metadata": {},
   "outputs": [
    {
     "name": "stdout",
     "output_type": "stream",
     "text": [
      "Hybrid Recommendations:\n",
      "1. Wallace & Gromit: The Best of Aardman Animation (1996)\n",
      "2. Toy Story 2 (1999)\n",
      "3. Shrek (2001)\n",
      "4. Monsters, Inc. (2001)\n",
      "5. Finding Nemo (2003)\n",
      "6. Incredibles, The (2004)\n",
      "7. Kiki's Delivery Service (Majo no takkyûbin) (1989)\n",
      "8. Howl's Moving Castle (Hauru no ugoku shiro) (2004)\n",
      "9. Ponyo (Gake no ue no Ponyo) (2008)\n",
      "10. Fantastic Mr. Fox (2009)\n"
     ]
    }
   ],
   "source": [
    "recommendations = hybrid_recommend(\n",
    "    user_id=1,\n",
    "    liked_movie_id=1,  # Toy Story\n",
    "    model=model,\n",
    "    ratings_df=ratings,\n",
    "    movies_df=movies,\n",
    "    cosine_sim=cosine_sim,\n",
    "    alpha=0.6  # Tune this!\n",
    ")\n",
    "# 2. Print or display results nicely\n",
    "print(\"Hybrid Recommendations:\")\n",
    "for idx, title in enumerate(recommendations, 1):\n",
    "    print(f\"{idx}. {title}\")\n",
    "    \n"
   ]
  },
  {
   "cell_type": "code",
   "execution_count": null,
   "id": "1b4ee814-c6ce-4cd6-8bf2-151f035de194",
   "metadata": {},
   "outputs": [],
   "source": []
  }
 ],
 "metadata": {
  "kernelspec": {
   "display_name": "Python 3 (ipykernel)",
   "language": "python",
   "name": "python3"
  },
  "language_info": {
   "codemirror_mode": {
    "name": "ipython",
    "version": 3
   },
   "file_extension": ".py",
   "mimetype": "text/x-python",
   "name": "python",
   "nbconvert_exporter": "python",
   "pygments_lexer": "ipython3",
   "version": "3.12.7"
  }
 },
 "nbformat": 4,
 "nbformat_minor": 5
}
